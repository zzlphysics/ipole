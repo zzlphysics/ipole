{
 "cells": [
  {
   "cell_type": "code",
   "execution_count": 17,
   "metadata": {},
   "outputs": [
    {
     "name": "stdout",
     "output_type": "stream",
     "text": [
      "plotting ./image.h5\n"
     ]
    },
    {
     "name": "stderr",
     "output_type": "stream",
     "text": [
      "/root/Projects/ipole/output/riaf/plot_pol.py:91: RuntimeWarning: invalid value encountered in divide\n",
      "  lpfrac = 100.*np.sqrt(Q*Q+U*U)/I\n",
      "/root/Projects/ipole/output/riaf/plot_pol.py:98: RuntimeWarning: invalid value encountered in divide\n",
      "  cpfrac = 100.*V/I\n"
     ]
    },
    {
     "name": "stdout",
     "output_type": "stream",
     "text": [
      "Flux [Jy]:    0.220925 0.222884\n",
      "I,Q,U,V [Jy]: 0.220925 -0.000530303 2.69015e-05 -0.0198994\n",
      "LP [%]:       0.240347\n",
      "CP [%]:       -9.00733\n",
      "EVPA [deg]:   88.5481\n"
     ]
    }
   ],
   "source": [
    "%run plot_pol.py ./image.h5"
   ]
  },
  {
   "cell_type": "code",
   "execution_count": 3,
   "metadata": {},
   "outputs": [
    {
     "name": "stdout",
     "output_type": "stream",
     "text": [
      "plotting ./image.h5\n",
      "Flux [Jy]:    0.0119831 0.0120945\n",
      "I,Q,U,V [Jy]: 0.0119831 -1.83732e-05 -1.756e-06 -0.000677752\n",
      "LP [%]:       0.154024\n",
      "CP [%]:       -5.65588\n",
      "EVPA [deg]:   -87.2704\n"
     ]
    },
    {
     "name": "stderr",
     "output_type": "stream",
     "text": [
      "/root/Projects/ipole/output/riaf/plot.py:109: RuntimeWarning: invalid value encountered in divide\n",
      "  lpfrac = 100.*np.sqrt(Q*Q+U*U)/I\n",
      "/root/Projects/ipole/output/riaf/plot.py:116: RuntimeWarning: invalid value encountered in divide\n",
      "  cpfrac = 100.*V/I\n"
     ]
    }
   ],
   "source": [
    "%run plot.py ./image.h5"
   ]
  },
  {
   "cell_type": "code",
   "execution_count": null,
   "metadata": {},
   "outputs": [],
   "source": []
  }
 ],
 "metadata": {
  "kernelspec": {
   "display_name": "ntqc6rtimj6bnxdbbgujwjtl7ygyrfnq",
   "language": "python",
   "name": "python3"
  },
  "language_info": {
   "codemirror_mode": {
    "name": "ipython",
    "version": 3
   },
   "file_extension": ".py",
   "mimetype": "text/x-python",
   "name": "python",
   "nbconvert_exporter": "python",
   "pygments_lexer": "ipython3",
   "version": "3.11.9"
  }
 },
 "nbformat": 4,
 "nbformat_minor": 2
}
